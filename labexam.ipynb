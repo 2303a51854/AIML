{
  "nbformat": 4,
  "nbformat_minor": 0,
  "metadata": {
    "colab": {
      "provenance": [],
      "authorship_tag": "ABX9TyNQ055CN7HbtBpcxGiiMpke",
      "include_colab_link": true
    },
    "kernelspec": {
      "name": "python3",
      "display_name": "Python 3"
    },
    "language_info": {
      "name": "python"
    }
  },
  "cells": [
    {
      "cell_type": "markdown",
      "metadata": {
        "id": "view-in-github",
        "colab_type": "text"
      },
      "source": [
        "<a href=\"https://colab.research.google.com/github/2303a51854/AIML/blob/main/labexam.ipynb\" target=\"_parent\"><img src=\"https://colab.research.google.com/assets/colab-badge.svg\" alt=\"Open In Colab\"/></a>"
      ]
    },
    {
      "cell_type": "code",
      "execution_count": 17,
      "metadata": {
        "id": "qxcG_v2t1rCT"
      },
      "outputs": [],
      "source": []
    },
    {
      "cell_type": "markdown",
      "source": [
        "Prediction of South Indian travel Destinations using Holiday Data\n",
        "\n",
        "1. Identify the top 5 attributes for south India destinations\n",
        "\n",
        "2. Identify the attribute with most liked travel spots\n",
        "\n",
        "3. Find the max and min attributes of choice for south India tourism\n",
        "\n",
        "\n",
        "4. What is the role of beaches, theatres, malls, parks in south India tourism\n",
        "\n",
        "\n",
        "5. Identify the sports with most attributes in south India\n",
        "\n",
        "6. Apply either Classification Model or Clustering Model to evaluate the dataset"
      ],
      "metadata": {
        "id": "P7ZxJSsA1tDb"
      }
    },
    {
      "cell_type": "code",
      "source": [
        "import pandas as pd\n",
        "\n",
        "\n",
        "data = {\n",
        "    'Destination': ['Kochi', 'Chennai', 'Ooty', 'Pondicherry', 'Madurai', 'Mysore', 'Kovalam', 'Bangalore'],\n",
        "    'Attributes': [\n",
        "        ['Beaches', 'Temples', 'Parks'],\n",
        "        ['Beaches', 'Malls', 'Parks'],\n",
        "        ['Temples', 'Mountains', 'Parks'],\n",
        "        ['Beaches', 'Cultural Heritage'],\n",
        "        ['Temples', 'Cultural Heritage', 'Parks'],\n",
        "        ['Cultural Heritage', 'Parks'],\n",
        "        ['Beaches', 'Parks', 'Water Sports'],\n",
        "        ['Malls', 'Parks', 'Cultural Heritage']\n",
        "    ]\n",
        "}\n",
        "\n",
        "df = pd.DataFrame(data)\n",
        "\n",
        "\n",
        "attributes = df['Attributes'].explode().value_counts()\n",
        "top_5_attributes = attributes.head(5)\n",
        "print(\"Top 5 Attributes:\")\n",
        "print(top_5_attributes)"
      ],
      "metadata": {
        "colab": {
          "base_uri": "https://localhost:8080/"
        },
        "id": "gkjXzIyE12XV",
        "outputId": "ba7ee144-9cda-46f8-f4d9-b0ff5e61c2b2"
      },
      "execution_count": 18,
      "outputs": [
        {
          "output_type": "stream",
          "name": "stdout",
          "text": [
            "Top 5 Attributes:\n",
            "Attributes\n",
            "Parks                7\n",
            "Beaches              4\n",
            "Cultural Heritage    4\n",
            "Temples              3\n",
            "Malls                2\n",
            "Name: count, dtype: int64\n"
          ]
        }
      ]
    },
    {
      "cell_type": "markdown",
      "source": [],
      "metadata": {
        "id": "_8Z7VD5z2FJj"
      }
    },
    {
      "cell_type": "code",
      "source": [
        "\n",
        "df['Rating'] = [4.5, 4.7, 4.3, 4.6, 4.8, 4.4, 4.7, 4.2]\n",
        "\n",
        "\n",
        "df_exploded = df.explode('Attributes')\n",
        "\n",
        "\n",
        "avg_rating_per_attribute = df_exploded.groupby('Attributes')['Rating'].mean().sort_values(ascending=False)\n",
        "most_liked_attribute = avg_rating_per_attribute.head(1)\n",
        "print(\"Most Liked Attribute:\")\n",
        "print(most_liked_attribute)"
      ],
      "metadata": {
        "colab": {
          "base_uri": "https://localhost:8080/"
        },
        "id": "suSjqIWG2QIC",
        "outputId": "481e1a8f-b3a9-41c4-fba9-37afc12aef82"
      },
      "execution_count": 19,
      "outputs": [
        {
          "output_type": "stream",
          "name": "stdout",
          "text": [
            "Most Liked Attribute:\n",
            "Attributes\n",
            "Water Sports    4.7\n",
            "Name: Rating, dtype: float64\n"
          ]
        }
      ]
    },
    {
      "cell_type": "code",
      "source": [
        "\n",
        "attribute_counts = df['Attributes'].explode().value_counts()\n",
        "\n",
        "\n",
        "max_attribute = attribute_counts.idxmax()\n",
        "min_attribute = attribute_counts.idxmin()\n",
        "\n",
        "print(\"Max Attribute of Choice:\", max_attribute)\n",
        "print(\"Min Attribute of Choice:\", min_attribute)"
      ],
      "metadata": {
        "colab": {
          "base_uri": "https://localhost:8080/"
        },
        "id": "InqYYHBy2SOT",
        "outputId": "7643fa41-5ef0-4a37-83d1-9627d33169ba"
      },
      "execution_count": 20,
      "outputs": [
        {
          "output_type": "stream",
          "name": "stdout",
          "text": [
            "Max Attribute of Choice: Parks\n",
            "Min Attribute of Choice: Mountains\n"
          ]
        }
      ]
    },
    {
      "cell_type": "code",
      "source": [
        "\n",
        "beaches_role = df[df['Attributes'].apply(lambda x: 'Beaches' in x)]\n",
        "theatres_role = df[df['Attributes'].apply(lambda x: 'Theatres' in x)]\n",
        "malls_role = df[df['Attributes'].apply(lambda x: 'Malls' in x)]\n",
        "parks_role = df[df['Attributes'].apply(lambda x: 'Parks' in x)]\n",
        "\n",
        "\n",
        "print(\"Destinations with Beaches:\")\n",
        "print(beaches_role['Destination'])\n",
        "print(\"\\nDestinations with Theatres:\")\n",
        "print(theatres_role['Destination'])\n",
        "print(\"\\nDestinations with Malls:\")\n",
        "print(malls_role['Destination'])\n",
        "print(\"\\nDestinations with Parks:\")\n",
        "print(parks_role['Destination'])"
      ],
      "metadata": {
        "colab": {
          "base_uri": "https://localhost:8080/"
        },
        "id": "aE6wX87D3ATy",
        "outputId": "92722ea6-aa0e-45e8-e475-af9a8f55e824"
      },
      "execution_count": 21,
      "outputs": [
        {
          "output_type": "stream",
          "name": "stdout",
          "text": [
            "Destinations with Beaches:\n",
            "0          Kochi\n",
            "1        Chennai\n",
            "3    Pondicherry\n",
            "6        Kovalam\n",
            "Name: Destination, dtype: object\n",
            "\n",
            "Destinations with Theatres:\n",
            "Series([], Name: Destination, dtype: object)\n",
            "\n",
            "Destinations with Malls:\n",
            "1      Chennai\n",
            "7    Bangalore\n",
            "Name: Destination, dtype: object\n",
            "\n",
            "Destinations with Parks:\n",
            "0        Kochi\n",
            "1      Chennai\n",
            "2         Ooty\n",
            "4      Madurai\n",
            "5       Mysore\n",
            "6      Kovalam\n",
            "7    Bangalore\n",
            "Name: Destination, dtype: object\n"
          ]
        }
      ]
    },
    {
      "cell_type": "code",
      "source": [
        "\n",
        "df['Attributes'] = df['Attributes'].apply(lambda x: x + ['Cricket', 'Football', 'Water Sports'])\n",
        "\n",
        "\n",
        "sports = df['Attributes'].explode().value_counts()\n",
        "\n",
        "\n",
        "sports_with_most_attributes = sports.head(5)\n",
        "print(\"Sports with Most Attributes:\")\n",
        "print(sports_with_most_attributes)"
      ],
      "metadata": {
        "colab": {
          "base_uri": "https://localhost:8080/"
        },
        "id": "jMnsLGX73ISR",
        "outputId": "e1b66c7c-c2cd-42f3-a723-4e37d63f0a0a"
      },
      "execution_count": 22,
      "outputs": [
        {
          "output_type": "stream",
          "name": "stdout",
          "text": [
            "Sports with Most Attributes:\n",
            "Attributes\n",
            "Water Sports    9\n",
            "Cricket         8\n",
            "Football        8\n",
            "Parks           7\n",
            "Beaches         4\n",
            "Name: count, dtype: int64\n"
          ]
        }
      ]
    },
    {
      "cell_type": "code",
      "source": [
        "from sklearn.feature_extraction.text import TfidfVectorizer\n",
        "from sklearn.cluster import KMeans\n",
        "\n",
        "\n",
        "df['Attributes_Str'] = df['Attributes'].apply(lambda x: ' '.join(x))\n",
        "\n",
        "\n",
        "vectorizer = TfidfVectorizer(stop_words='english')\n",
        "X = vectorizer.fit_transform(df['Attributes_Str'])\n",
        "\n",
        "\n",
        "kmeans = KMeans(n_clusters=3, random_state=42)\n",
        "df['Cluster'] = kmeans.fit_predict(X)\n",
        "\n",
        "\n",
        "print(\"Clustering Results:\")\n",
        "print(df[['Destination', 'Cluster']])"
      ],
      "metadata": {
        "colab": {
          "base_uri": "https://localhost:8080/"
        },
        "id": "T2dhgKkh3N70",
        "outputId": "3ba00c0f-17c3-4560-dcf0-8599bb491d2d"
      },
      "execution_count": 23,
      "outputs": [
        {
          "output_type": "stream",
          "name": "stdout",
          "text": [
            "Clustering Results:\n",
            "   Destination  Cluster\n",
            "0        Kochi        2\n",
            "1      Chennai        2\n",
            "2         Ooty        0\n",
            "3  Pondicherry        1\n",
            "4      Madurai        1\n",
            "5       Mysore        1\n",
            "6      Kovalam        2\n",
            "7    Bangalore        1\n"
          ]
        }
      ]
    }
  ]
}